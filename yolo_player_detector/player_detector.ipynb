{
 "cells": [
  {
   "cell_type": "code",
   "execution_count": 3,
   "id": "d2a91d37",
   "metadata": {},
   "outputs": [],
   "source": [
    "from ultralytics import YOLO\n",
    "import os\n",
    "import cv2\n",
    "import matplotlib.pyplot as plt\n",
    "from tqdm import tqdm\n",
    "import json\n",
    "\n",
    "path_to_data = \"/Users/thomasmcconnell/Library/CloudStorage/OneDrive-PomonaCollege/School/CS153/Project/cs153-football-formation-id/sample_data\"\n",
    "output_json_path = \"/Users/thomasmcconnell/Library/CloudStorage/OneDrive-PomonaCollege/School/CS153/Project/cs153-football-formation-id/yolo_player_detector/\""
   ]
  },
  {
   "cell_type": "markdown",
   "id": "1a3af2fd",
   "metadata": {},
   "source": [
    "I will use this notebook to detect people on each image that has been pre processed and cropped in the field_lines_detection folder. I will load yolov8n.pt model using ultralytics and then feed that model output to the final classification model. Change any data references to your data as needed."
   ]
  },
  {
   "cell_type": "code",
   "execution_count": null,
   "id": "69d9e166",
   "metadata": {},
   "outputs": [],
   "source": [
    "# load YOLO\n",
    "model = YOLO('yolov8n.pt')\n",
    "\n",
    "all_detections = []\n",
    "\n",
    "# grab all cropped_sideline images\n",
    "cropped_image_paths = []\n",
    "for formation_folder in os.listdir(path_to_data):\n",
    "    formation_path = os.path.join(path_to_data, formation_folder)\n",
    "    if not os.path.isdir(formation_path):\n",
    "        continue\n",
    "\n",
    "    for video_folder in os.listdir(formation_path):\n",
    "        video_path = os.path.join(formation_path, video_folder)\n",
    "        if not os.path.isdir(video_path):\n",
    "            continue\n",
    "\n",
    "        for file in os.listdir(video_path):\n",
    "            if file.startswith(\"cropped_sideline\") and file.endswith(\".png\"):\n",
    "                full_path = os.path.join(video_path, file)\n",
    "                cropped_image_paths.append(full_path)\n",
    "\n",
    "# detect players\n",
    "for img_path in tqdm(cropped_image_paths, desc=\"Running YOLO Detection\"):\n",
    "    results = model(img_path, conf=0.25)  # returns list\n",
    "    result = results[0]  # get first result\n",
    "\n",
    "    player_data = []\n",
    "    for box in result.boxes.data.tolist():  # (x1, y1, x2, y2, confidence, class)\n",
    "        x1, y1, x2, y2, conf, cls = box\n",
    "\n",
    "        # Only save if it's a 'person' (person = 0 in a YOLOv8 model)\n",
    "        if int(cls) == 0:\n",
    "            player_data.append({\n",
    "                \"bbox\": [x1, y1, x2, y2],\n",
    "                \"confidence\": conf\n",
    "            })\n",
    "\n",
    "    # save detections\n",
    "    all_detections.append({\n",
    "        \"image_filename\": os.path.basename(img_path),\n",
    "        \"players\": player_data\n",
    "    })\n",
    "\n",
    "# save to json\n",
    "with open(output_json_path + \"player_bboxes.json\", \"w\") as f:\n",
    "    json.dump(all_detections, f, indent=4);\n"
   ]
  },
  {
   "cell_type": "code",
   "execution_count": null,
   "id": "fdc1e4b4",
   "metadata": {},
   "outputs": [],
   "source": [
    "results = model(cropped_image_paths[0], conf=0.25)\n",
    "results[0].show()"
   ]
  }
 ],
 "metadata": {
  "kernelspec": {
   "display_name": "torch_cs153",
   "language": "python",
   "name": "python3"
  },
  "language_info": {
   "codemirror_mode": {
    "name": "ipython",
    "version": 3
   },
   "file_extension": ".py",
   "mimetype": "text/x-python",
   "name": "python",
   "nbconvert_exporter": "python",
   "pygments_lexer": "ipython3",
   "version": "3.11.11"
  }
 },
 "nbformat": 4,
 "nbformat_minor": 5
}
