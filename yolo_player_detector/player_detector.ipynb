{
 "cells": [
  {
   "cell_type": "code",
   "execution_count": 1,
   "id": "d2a91d37",
   "metadata": {},
   "outputs": [],
   "source": [
    "from ultralytics import YOLO\n",
    "import os\n",
    "import cv2\n",
    "import matplotlib.pyplot as plt\n",
    "from tqdm import tqdm\n",
    "import json\n",
    "\n",
    "path_to_data = \"/Users/thomasmcconnell/Library/CloudStorage/OneDrive-PomonaCollege/School/CS153/Project/cs153-football-formation-id/sample_data\"\n",
    "output_json_path = \"/Users/thomasmcconnell/Library/CloudStorage/OneDrive-PomonaCollege/School/CS153/Project/cs153-football-formation-id/yolo_player_detector/\""
   ]
  },
  {
   "cell_type": "markdown",
   "id": "1a3af2fd",
   "metadata": {},
   "source": [
    "I will use this notebook to detect people on each image that has been pre processed and cropped in the field_lines_detection folder. I will load yolov8n.pt model using ultralytics and then feed that model output to the final classification model. Change any data references to your data as needed."
   ]
  },
  {
   "cell_type": "code",
   "execution_count": 2,
   "id": "69d9e166",
   "metadata": {},
   "outputs": [
    {
     "name": "stderr",
     "output_type": "stream",
     "text": [
      "Running YOLO Detection:   0%|          | 0/15 [00:00<?, ?it/s]"
     ]
    },
    {
     "name": "stdout",
     "output_type": "stream",
     "text": [
      "\n",
      "image 1/1 /Users/thomasmcconnell/Library/CloudStorage/OneDrive-PomonaCollege/School/CS153/Project/cs153-football-formation-id/sample_data/KINGSSPLIT/d027d451846e4e05e98dd4f478501d8d4dd454b803427ea8636a442b5beedb08/cropped_sideline_d027d451846e4e05e98dd4f478501d8d4dd454b803427ea8636a442b5beedb08.png: 224x640 9 persons, 297.8ms\n",
      "Speed: 10.7ms preprocess, 297.8ms inference, 17.8ms postprocess per image at shape (1, 3, 224, 640)\n"
     ]
    },
    {
     "name": "stderr",
     "output_type": "stream",
     "text": [
      "Running YOLO Detection:   7%|▋         | 1/15 [00:03<00:47,  3.38s/it]"
     ]
    },
    {
     "name": "stdout",
     "output_type": "stream",
     "text": [
      "\n",
      "image 1/1 /Users/thomasmcconnell/Library/CloudStorage/OneDrive-PomonaCollege/School/CS153/Project/cs153-football-formation-id/sample_data/KINGSSPLIT/536166fbf76d89a1e10dbca4d53f4258fcadba38b88ac4aa3718bbd4ef894021/cropped_sideline_536166fbf76d89a1e10dbca4d53f4258fcadba38b88ac4aa3718bbd4ef894021.png: 192x640 16 persons, 138.9ms\n",
      "Speed: 2.1ms preprocess, 138.9ms inference, 2.1ms postprocess per image at shape (1, 3, 192, 640)\n"
     ]
    },
    {
     "name": "stderr",
     "output_type": "stream",
     "text": [
      "Running YOLO Detection:  13%|█▎        | 2/15 [00:03<00:19,  1.54s/it]"
     ]
    },
    {
     "name": "stdout",
     "output_type": "stream",
     "text": [
      "\n",
      "image 1/1 /Users/thomasmcconnell/Library/CloudStorage/OneDrive-PomonaCollege/School/CS153/Project/cs153-football-formation-id/sample_data/KINGSSPLIT/115441d20c79531889c3e415c6063ee6466991662e6837210d5ca74609c570d2/cropped_sideline_115441d20c79531889c3e415c6063ee6466991662e6837210d5ca74609c570d2.png: 96x640 2 persons, 1 tennis racket, 106.7ms\n",
      "Speed: 1.5ms preprocess, 106.7ms inference, 1.4ms postprocess per image at shape (1, 3, 96, 640)\n"
     ]
    },
    {
     "name": "stderr",
     "output_type": "stream",
     "text": [
      "Running YOLO Detection:  20%|██        | 3/15 [00:03<00:10,  1.09it/s]"
     ]
    },
    {
     "name": "stdout",
     "output_type": "stream",
     "text": [
      "\n",
      "image 1/1 /Users/thomasmcconnell/Library/CloudStorage/OneDrive-PomonaCollege/School/CS153/Project/cs153-football-formation-id/sample_data/KINGSSPLIT/7056bcd93a0c7ceb06a8f40157a497af2a0e60a3cad9695eeeb66f1eb71c727f/cropped_sideline_7056bcd93a0c7ceb06a8f40157a497af2a0e60a3cad9695eeeb66f1eb71c727f.png: 352x640 17 persons, 197.5ms\n",
      "Speed: 3.4ms preprocess, 197.5ms inference, 2.5ms postprocess per image at shape (1, 3, 352, 640)\n"
     ]
    },
    {
     "name": "stderr",
     "output_type": "stream",
     "text": [
      "Running YOLO Detection:  27%|██▋       | 4/15 [00:04<00:07,  1.42it/s]"
     ]
    },
    {
     "name": "stdout",
     "output_type": "stream",
     "text": [
      "\n",
      "image 1/1 /Users/thomasmcconnell/Library/CloudStorage/OneDrive-PomonaCollege/School/CS153/Project/cs153-football-formation-id/sample_data/KINGSSPLIT/0324fd177ce72e16659eaeeab7bda680eed36fe258255f8e11e4a83185a2789d/cropped_sideline_0324fd177ce72e16659eaeeab7bda680eed36fe258255f8e11e4a83185a2789d.png: 256x640 18 persons, 213.6ms\n",
      "Speed: 2.7ms preprocess, 213.6ms inference, 2.2ms postprocess per image at shape (1, 3, 256, 640)\n"
     ]
    },
    {
     "name": "stderr",
     "output_type": "stream",
     "text": [
      "Running YOLO Detection:  33%|███▎      | 5/15 [00:04<00:05,  1.72it/s]"
     ]
    },
    {
     "name": "stdout",
     "output_type": "stream",
     "text": [
      "\n",
      "image 1/1 /Users/thomasmcconnell/Library/CloudStorage/OneDrive-PomonaCollege/School/CS153/Project/cs153-football-formation-id/sample_data/ACES/133bd22803e0baa12be203cef54601f98e68b0e5b887be90fe57a28bce968dfa/cropped_sideline_133bd22803e0baa12be203cef54601f98e68b0e5b887be90fe57a28bce968dfa.png: 256x640 24 persons, 186.7ms\n",
      "Speed: 3.2ms preprocess, 186.7ms inference, 1.8ms postprocess per image at shape (1, 3, 256, 640)\n"
     ]
    },
    {
     "name": "stderr",
     "output_type": "stream",
     "text": [
      "Running YOLO Detection:  40%|████      | 6/15 [00:04<00:04,  2.04it/s]"
     ]
    },
    {
     "name": "stdout",
     "output_type": "stream",
     "text": [
      "\n",
      "image 1/1 /Users/thomasmcconnell/Library/CloudStorage/OneDrive-PomonaCollege/School/CS153/Project/cs153-football-formation-id/sample_data/ACES/2b18b85e6aab5aceda748b02f558e66ecbee67a08022c20655c2b95e873e58ee/cropped_sideline_2b18b85e6aab5aceda748b02f558e66ecbee67a08022c20655c2b95e873e58ee.png: 256x640 10 persons, 116.6ms\n",
      "Speed: 3.1ms preprocess, 116.6ms inference, 2.3ms postprocess per image at shape (1, 3, 256, 640)\n"
     ]
    },
    {
     "name": "stderr",
     "output_type": "stream",
     "text": [
      "Running YOLO Detection:  47%|████▋     | 7/15 [00:05<00:03,  2.27it/s]"
     ]
    },
    {
     "name": "stdout",
     "output_type": "stream",
     "text": [
      "\n",
      "image 1/1 /Users/thomasmcconnell/Library/CloudStorage/OneDrive-PomonaCollege/School/CS153/Project/cs153-football-formation-id/sample_data/ACES/c6206524a1c22289ab330c51f369b6fa8a17d6934a79e92e97f26530490fa6c4/cropped_sideline_c6206524a1c22289ab330c51f369b6fa8a17d6934a79e92e97f26530490fa6c4.png: 320x640 11 persons, 4 sports balls, 183.1ms\n",
      "Speed: 2.4ms preprocess, 183.1ms inference, 2.0ms postprocess per image at shape (1, 3, 320, 640)\n"
     ]
    },
    {
     "name": "stderr",
     "output_type": "stream",
     "text": [
      "Running YOLO Detection:  53%|█████▎    | 8/15 [00:05<00:02,  2.46it/s]"
     ]
    },
    {
     "name": "stdout",
     "output_type": "stream",
     "text": [
      "\n",
      "image 1/1 /Users/thomasmcconnell/Library/CloudStorage/OneDrive-PomonaCollege/School/CS153/Project/cs153-football-formation-id/sample_data/ACES/987a32deb572f69e5bc0b479fdc99142823e4e64aa39e143887876b0534ce48a/cropped_sideline_987a32deb572f69e5bc0b479fdc99142823e4e64aa39e143887876b0534ce48a.png: 320x640 19 persons, 141.5ms\n",
      "Speed: 4.4ms preprocess, 141.5ms inference, 1.8ms postprocess per image at shape (1, 3, 320, 640)\n"
     ]
    },
    {
     "name": "stderr",
     "output_type": "stream",
     "text": [
      "Running YOLO Detection:  60%|██████    | 9/15 [00:05<00:02,  2.65it/s]"
     ]
    },
    {
     "name": "stdout",
     "output_type": "stream",
     "text": [
      "\n",
      "image 1/1 /Users/thomasmcconnell/Library/CloudStorage/OneDrive-PomonaCollege/School/CS153/Project/cs153-football-formation-id/sample_data/ACES/1dcf8f12e295c16479695b4a387b37a7a6507e206d9925e4c78ab65da7d329eb/cropped_sideline_1dcf8f12e295c16479695b4a387b37a7a6507e206d9925e4c78ab65da7d329eb.png: 256x640 11 persons, 90.6ms\n",
      "Speed: 3.1ms preprocess, 90.6ms inference, 1.4ms postprocess per image at shape (1, 3, 256, 640)\n"
     ]
    },
    {
     "name": "stderr",
     "output_type": "stream",
     "text": [
      "Running YOLO Detection:  67%|██████▋   | 10/15 [00:06<00:01,  3.07it/s]"
     ]
    },
    {
     "name": "stdout",
     "output_type": "stream",
     "text": [
      "\n",
      "image 1/1 /Users/thomasmcconnell/Library/CloudStorage/OneDrive-PomonaCollege/School/CS153/Project/cs153-football-formation-id/sample_data/QUEENS/ce394585074259ba332e9c37ffca2fb366823ae90f1bc8e533bddf58780549dc/cropped_sideline_ce394585074259ba332e9c37ffca2fb366823ae90f1bc8e533bddf58780549dc.png: 288x640 14 persons, 175.3ms\n",
      "Speed: 2.9ms preprocess, 175.3ms inference, 2.5ms postprocess per image at shape (1, 3, 288, 640)\n"
     ]
    },
    {
     "name": "stderr",
     "output_type": "stream",
     "text": [
      "Running YOLO Detection:  73%|███████▎  | 11/15 [00:06<00:01,  3.11it/s]"
     ]
    },
    {
     "name": "stdout",
     "output_type": "stream",
     "text": [
      "\n",
      "image 1/1 /Users/thomasmcconnell/Library/CloudStorage/OneDrive-PomonaCollege/School/CS153/Project/cs153-football-formation-id/sample_data/QUEENS/624b3dfaec43e14e70d5086df57569c78a2558678480d27e8432fc7e9a4a6090/cropped_sideline_624b3dfaec43e14e70d5086df57569c78a2558678480d27e8432fc7e9a4a6090.png: 192x640 12 persons, 102.9ms\n",
      "Speed: 3.1ms preprocess, 102.9ms inference, 1.2ms postprocess per image at shape (1, 3, 192, 640)\n"
     ]
    },
    {
     "name": "stderr",
     "output_type": "stream",
     "text": [
      "Running YOLO Detection:  80%|████████  | 12/15 [00:06<00:00,  3.50it/s]"
     ]
    },
    {
     "name": "stdout",
     "output_type": "stream",
     "text": [
      "\n",
      "image 1/1 /Users/thomasmcconnell/Library/CloudStorage/OneDrive-PomonaCollege/School/CS153/Project/cs153-football-formation-id/sample_data/QUEENS/08857f57e7bf322b74756009c905ca206074b25b7d040ffa0b0679e920916ed4/cropped_sideline_08857f57e7bf322b74756009c905ca206074b25b7d040ffa0b0679e920916ed4.png: 224x640 19 persons, 95.0ms\n",
      "Speed: 4.2ms preprocess, 95.0ms inference, 1.2ms postprocess per image at shape (1, 3, 224, 640)\n"
     ]
    },
    {
     "name": "stderr",
     "output_type": "stream",
     "text": [
      "Running YOLO Detection:  87%|████████▋ | 13/15 [00:06<00:00,  3.81it/s]"
     ]
    },
    {
     "name": "stdout",
     "output_type": "stream",
     "text": [
      "\n",
      "image 1/1 /Users/thomasmcconnell/Library/CloudStorage/OneDrive-PomonaCollege/School/CS153/Project/cs153-football-formation-id/sample_data/QUEENS/93025c7c64a372dbc19c54349a2c84c934b35d0c52ef3d25cde4c9d35125b156/cropped_sideline_93025c7c64a372dbc19c54349a2c84c934b35d0c52ef3d25cde4c9d35125b156.png: 256x640 12 persons, 134.8ms\n",
      "Speed: 3.7ms preprocess, 134.8ms inference, 2.4ms postprocess per image at shape (1, 3, 256, 640)\n"
     ]
    },
    {
     "name": "stderr",
     "output_type": "stream",
     "text": [
      "Running YOLO Detection:  93%|█████████▎| 14/15 [00:07<00:00,  3.83it/s]"
     ]
    },
    {
     "name": "stdout",
     "output_type": "stream",
     "text": [
      "\n",
      "image 1/1 /Users/thomasmcconnell/Library/CloudStorage/OneDrive-PomonaCollege/School/CS153/Project/cs153-football-formation-id/sample_data/QUEENS/0d208ebb16301a28953bc9ea6e2250aff729298370046aa45775959673b0a026/cropped_sideline_0d208ebb16301a28953bc9ea6e2250aff729298370046aa45775959673b0a026.png: 320x640 17 persons, 1 sports ball, 183.4ms\n",
      "Speed: 4.0ms preprocess, 183.4ms inference, 1.8ms postprocess per image at shape (1, 3, 320, 640)\n"
     ]
    },
    {
     "name": "stderr",
     "output_type": "stream",
     "text": [
      "Running YOLO Detection: 100%|██████████| 15/15 [00:07<00:00,  2.02it/s]\n"
     ]
    }
   ],
   "source": [
    "# load YOLO\n",
    "model = YOLO('yolov8n.pt')\n",
    "\n",
    "all_detections = []\n",
    "\n",
    "# grab all cropped_sideline images\n",
    "cropped_image_paths = []\n",
    "for formation_folder in os.listdir(path_to_data):\n",
    "    formation_path = os.path.join(path_to_data, formation_folder)\n",
    "    if not os.path.isdir(formation_path):\n",
    "        continue\n",
    "\n",
    "    for video_folder in os.listdir(formation_path):\n",
    "        video_path = os.path.join(formation_path, video_folder)\n",
    "        if not os.path.isdir(video_path):\n",
    "            continue\n",
    "\n",
    "        for file in os.listdir(video_path):\n",
    "            if file.startswith(\"cropped_sideline\") and file.endswith(\".png\"):\n",
    "                full_path = os.path.join(video_path, file)\n",
    "                cropped_image_paths.append(full_path)\n",
    "\n",
    "# detect players\n",
    "for img_path in tqdm(cropped_image_paths, desc=\"Running YOLO Detection\"):\n",
    "    results = model(img_path, conf=0.25)  # returns list\n",
    "    result = results[0]  # get first result\n",
    "\n",
    "    player_data = []\n",
    "    for box in result.boxes.data.tolist():  # (x1, y1, x2, y2, confidence, class)\n",
    "        x1, y1, x2, y2, conf, cls = box\n",
    "\n",
    "        # Only save if it's a 'person' (person = 0 in a YOLOv8 model)\n",
    "        if int(cls) == 0:\n",
    "            player_data.append({\n",
    "                \"bbox\": [x1, y1, x2, y2],\n",
    "                \"confidence\": conf\n",
    "            })\n",
    "\n",
    "    # save detections\n",
    "    all_detections.append({\n",
    "        \"image_filename\": os.path.basename(img_path),\n",
    "        \"players\": player_data\n",
    "    })\n",
    "\n",
    "# save to json\n",
    "with open(output_json_path + \"player_bboxes.json\", \"w\") as f:\n",
    "    json.dump(all_detections, f, indent=4)\n"
   ]
  },
  {
   "cell_type": "code",
   "execution_count": 3,
   "id": "fdc1e4b4",
   "metadata": {},
   "outputs": [
    {
     "name": "stdout",
     "output_type": "stream",
     "text": [
      "\n",
      "image 1/1 /Users/thomasmcconnell/Library/CloudStorage/OneDrive-PomonaCollege/School/CS153/Project/cs153-football-formation-id/sample_data/KINGSSPLIT/d027d451846e4e05e98dd4f478501d8d4dd454b803427ea8636a442b5beedb08/cropped_sideline_d027d451846e4e05e98dd4f478501d8d4dd454b803427ea8636a442b5beedb08.png: 224x640 9 persons, 186.7ms\n",
      "Speed: 14.1ms preprocess, 186.7ms inference, 1.4ms postprocess per image at shape (1, 3, 224, 640)\n"
     ]
    }
   ],
   "source": [
    "results = model(cropped_image_paths[0], conf=0.25)\n",
    "results[0].show()"
   ]
  },
  {
   "cell_type": "code",
   "execution_count": null,
   "id": "47b0f44b",
   "metadata": {},
   "outputs": [],
   "source": []
  }
 ],
 "metadata": {
  "kernelspec": {
   "display_name": "torch_cs153",
   "language": "python",
   "name": "python3"
  },
  "language_info": {
   "codemirror_mode": {
    "name": "ipython",
    "version": 3
   },
   "file_extension": ".py",
   "mimetype": "text/x-python",
   "name": "python",
   "nbconvert_exporter": "python",
   "pygments_lexer": "ipython3",
   "version": "3.11.11"
  }
 },
 "nbformat": 4,
 "nbformat_minor": 5
}
