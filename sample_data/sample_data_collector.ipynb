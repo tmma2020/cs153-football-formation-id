{
 "cells": [
  {
   "cell_type": "markdown",
   "id": "bb9d4c33",
   "metadata": {},
   "source": [
    "I will use this notebook just to extract a sample of the larger dataset I used in order to demonstrate the project. If you are using different data with the same structure, you can replace any data references with your own. The data structure is:\n",
    "\n",
    "- `data/`\n",
    "  - `dataset.json`\n",
    "  - `[off_formation]/`\n",
    "    - `[video_path]/`\n",
    "      - `sideline_[video_path].png`\n",
    "      - `endzone_[video_path].png`\n",
    "      - `tight_[video_path].png`\n",
    "\n",
    "- `[off_formation]` is the offensive formation (e.g., `ACES`, `JOKERS`, `KINGS`).\n",
    "- `[video_path]` is the unique identifier for a specific play.\n",
    "- Each `video_path` folder contains one or more images captured from different camera angles (`sideline`, `endzone`, `tight`).\n",
    "\n",
    "Within `dataset.json`, each datapoint is a JSON object with fields describing the play, including:\n",
    "- `off_formation`: Name of the offensive formation (matches a folder name).\n",
    "- `video_path`: Unique identifier for the play (matches a subfolder name).\n",
    "- `off_play`, `play_type`, `result`, and other fields capturing metadata about the play (e.g., play type, direction, outcome, gain/loss, quarter).\n",
    "\n",
    "The images within each `[video_path]` folder correspond to the same play and are prefixed with their camera angle.\n"
   ]
  },
  {
   "cell_type": "code",
   "execution_count": 1,
   "id": "1d8cee77",
   "metadata": {},
   "outputs": [],
   "source": [
    "import os\n",
    "import sys\n",
    "import json\n",
    "import random\n",
    "import shutil\n",
    "# change for your own data\n",
    "path_to_data = \"/Users/thomasmcconnell/Library/CloudStorage/OneDrive-PomonaCollege/School/CS153/Project/Hudl_datacollector/hudl_dataset\"\n",
    "path_for_data = \"/Users/thomasmcconnell/Library/CloudStorage/OneDrive-PomonaCollege/School/CS153/Project/cs153-football-formation-id/sample_data\"\n",
    "formations = ['ACES', \"KINGSSPLIT\", \"QUEENS\"]\n",
    "number_of_samples_per_formation = 5\n",
    "dataset_json = \"dataset.json\"\n",
    "output_dataset_json = \"sample_dataset.json\"\n",
    "os.makedirs(path_for_data, exist_ok=True)"
   ]
  },
  {
   "cell_type": "markdown",
   "id": "38da8b6e",
   "metadata": {},
   "source": [
    "Now that we actually extract the sample we want."
   ]
  },
  {
   "cell_type": "code",
   "execution_count": null,
   "id": "b823cd27",
   "metadata": {},
   "outputs": [
    {
     "name": "stdout",
     "output_type": "stream",
     "text": [
      "Sampling 5 plays from formation: ACES\n",
      "Sampling 5 plays from formation: KINGSSPLIT\n",
      "Sampling 5 plays from formation: QUEENS\n",
      "Sample dataset saved to /Users/thomasmcconnell/Library/CloudStorage/OneDrive-PomonaCollege/School/CS153/Project/cs153-football-formation-id/sample_data/sample_dataset.json with 15 plays.\n"
     ]
    }
   ],
   "source": [
    "# load dataset\n",
    "dataset_path = os.path.join(path_to_data, dataset_json)\n",
    "with open(dataset_path, 'r') as f:\n",
    "    full_data = [json.loads(line) for line in f]\n",
    "\n",
    "# get number of plays per formation\n",
    "def sample_plays(data, formation, n_samples):\n",
    "    matching_entries = [entry for entry in data if entry['off_formation'].lower() == formation.lower()]\n",
    "    if len(matching_entries) < n_samples:\n",
    "        raise ValueError(f\"Not enough samples for formation {formation}.\")\n",
    "    return random.sample(matching_entries, n_samples)\n",
    "\n",
    "# sample plays\n",
    "sampled_entries = []\n",
    "\n",
    "for formation in formations:\n",
    "    print(f\"Sampling {number_of_samples_per_formation} plays from formation: {formation}\")\n",
    "    sampled = sample_plays(full_data, formation, number_of_samples_per_formation)\n",
    "    sampled_entries.extend(sampled)\n",
    "    \n",
    "    # copy image folders\n",
    "    for entry in sampled:\n",
    "        video_path = entry['video_path']\n",
    "        src_folder = os.path.join(path_to_data, formation, video_path)\n",
    "        dst_folder = os.path.join(path_for_data, formation, video_path)\n",
    "        \n",
    "        if os.path.exists(src_folder):\n",
    "            os.makedirs(dst_folder, exist_ok=True)\n",
    "            for filename in os.listdir(src_folder):\n",
    "                src_file = os.path.join(src_folder, filename)\n",
    "                dst_file = os.path.join(dst_folder, filename)\n",
    "                shutil.copy2(src_file, dst_file)\n",
    "        else:\n",
    "            print(f\"Missing source folder for {video_path} under {formation}\")\n",
    "\n",
    "# save dataset\n",
    "output_path = os.path.join(path_for_data, output_dataset_json)\n",
    "with open(output_path, 'w') as f:\n",
    "    for entry in sampled_entries:\n",
    "        json.dump(entry, f)\n",
    "        f.write('\\n')\n",
    "\n",
    "print(f\"Sample dataset saved to {output_path} with {len(sampled_entries)} plays.\")\n"
   ]
  }
 ],
 "metadata": {
  "kernelspec": {
   "display_name": "cs153_env",
   "language": "python",
   "name": "python3"
  },
  "language_info": {
   "codemirror_mode": {
    "name": "ipython",
    "version": 3
   },
   "file_extension": ".py",
   "mimetype": "text/x-python",
   "name": "python",
   "nbconvert_exporter": "python",
   "pygments_lexer": "ipython3",
   "version": "3.13.2"
  }
 },
 "nbformat": 4,
 "nbformat_minor": 5
}
