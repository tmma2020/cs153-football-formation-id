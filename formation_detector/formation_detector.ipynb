{
 "cells": [
  {
   "cell_type": "code",
   "execution_count": 2,
   "id": "1976993b",
   "metadata": {},
   "outputs": [],
   "source": [
    "import json\n",
    "import numpy as np\n",
    "import os\n",
    "from sklearn.model_selection import train_test_split\n",
    "from sklearn.ensemble import RandomForestClassifier\n",
    "from sklearn.metrics import classification_report\n",
    "\n",
    "# update as needed\n",
    "bounding_boxes_json_path = \"/Users/thomasmcconnell/Library/CloudStorage/OneDrive-PomonaCollege/School/CS153/Project/cs153-football-formation-id/yolo_player_detector/player_bboxes.json\"\n",
    "dataset_json_path = \"/Users/thomasmcconnell/Library/CloudStorage/OneDrive-PomonaCollege/School/CS153/Project/cs153-football-formation-id/sample_data/sample_dataset.json\"\n",
    "\n",
    "with open(bounding_boxes_json_path, \"r\") as f:\n",
    "    all_detections = json.load(f)\n",
    "    \n",
    "with open(dataset_json_path, \"r\") as f:\n",
    "    dataset_metadata = [json.loads(line) for line in f]"
   ]
  },
  {
   "cell_type": "markdown",
   "id": "c49b35d9",
   "metadata": {},
   "source": [
    "Now that we have bounding boxes for player detection, we will create a model that uses these bounding boxes as input to predict formations."
   ]
  },
  {
   "cell_type": "code",
   "execution_count": 4,
   "id": "3b952aec",
   "metadata": {},
   "outputs": [
    {
     "name": "stdout",
     "output_type": "stream",
     "text": [
      "              precision    recall  f1-score   support\n",
      "\n",
      "        Aces       1.00      1.00      1.00         1\n",
      "  KINGSSPLIT       0.50      1.00      0.67         1\n",
      "      QUEENS       0.00      0.00      0.00         1\n",
      "\n",
      "    accuracy                           0.67         3\n",
      "   macro avg       0.50      0.67      0.56         3\n",
      "weighted avg       0.50      0.67      0.56         3\n",
      "\n"
     ]
    },
    {
     "name": "stderr",
     "output_type": "stream",
     "text": [
      "/Users/thomasmcconnell/Documents/venv/torch_cs153/lib/python3.11/site-packages/sklearn/metrics/_classification.py:1565: UndefinedMetricWarning: Precision is ill-defined and being set to 0.0 in labels with no predicted samples. Use `zero_division` parameter to control this behavior.\n",
      "  _warn_prf(average, modifier, f\"{metric.capitalize()} is\", len(result))\n",
      "/Users/thomasmcconnell/Documents/venv/torch_cs153/lib/python3.11/site-packages/sklearn/metrics/_classification.py:1565: UndefinedMetricWarning: Precision is ill-defined and being set to 0.0 in labels with no predicted samples. Use `zero_division` parameter to control this behavior.\n",
      "  _warn_prf(average, modifier, f\"{metric.capitalize()} is\", len(result))\n",
      "/Users/thomasmcconnell/Documents/venv/torch_cs153/lib/python3.11/site-packages/sklearn/metrics/_classification.py:1565: UndefinedMetricWarning: Precision is ill-defined and being set to 0.0 in labels with no predicted samples. Use `zero_division` parameter to control this behavior.\n",
      "  _warn_prf(average, modifier, f\"{metric.capitalize()} is\", len(result))\n"
     ]
    }
   ],
   "source": [
    "# look for formation\n",
    "video_to_formation = {}\n",
    "for entry in dataset_metadata:\n",
    "    video_to_formation[entry[\"video_path\"]] = entry[\"off_formation\"]\n",
    "\n",
    "X = []  # Feature vectors\n",
    "y = []  # Formation labels\n",
    "\n",
    "for detection in all_detections:\n",
    "    filename = detection[\"image_filename\"]\n",
    "    video_path = filename.replace(\"cropped_sideline_\", \"\").replace(\".png\", \"\")\n",
    "    formation_label = video_to_formation.get(video_path, None)\n",
    "    if formation_label is None:\n",
    "        continue\n",
    "\n",
    "    # build feature vector\n",
    "    player_positions = []\n",
    "    for player in detection[\"players\"]:\n",
    "        x1, y1, x2, y2 = player[\"bbox\"]\n",
    "        cx = (x1 + x2) / 2  # center x\n",
    "        cy = (y1 + y2) / 2  # center y\n",
    "        player_positions.append([cx, cy])\n",
    "\n",
    "    # flatten the player positions so we can use them as features\n",
    "    max_players = 20\n",
    "    flattened = np.array(player_positions).flatten()\n",
    "    if len(flattened) < max_players * 2:\n",
    "        flattened = np.pad(flattened, (0, max_players * 2 - len(flattened)))\n",
    "    else:\n",
    "        flattened = flattened[:max_players * 2]\n",
    "\n",
    "    X.append(flattened)\n",
    "    y.append(formation_label)\n",
    "\n",
    "X = np.array(X)\n",
    "y = np.array(y)\n",
    "\n",
    "# train/test split\n",
    "X_train, X_test, y_train, y_test = train_test_split(X, y, test_size=0.2, random_state=42)\n",
    "\n",
    "# train random forest\n",
    "clf = RandomForestClassifier(n_estimators=50, random_state=42)\n",
    "clf.fit(X_train, y_train)\n",
    "\n",
    "# evaluate\n",
    "y_pred = clf.predict(X_test)\n",
    "\n",
    "print(classification_report(y_test, y_pred))\n"
   ]
  },
  {
   "cell_type": "code",
   "execution_count": null,
   "id": "2909c352",
   "metadata": {},
   "outputs": [],
   "source": []
  }
 ],
 "metadata": {
  "kernelspec": {
   "display_name": "torch_cs153",
   "language": "python",
   "name": "python3"
  },
  "language_info": {
   "codemirror_mode": {
    "name": "ipython",
    "version": 3
   },
   "file_extension": ".py",
   "mimetype": "text/x-python",
   "name": "python",
   "nbconvert_exporter": "python",
   "pygments_lexer": "ipython3",
   "version": "3.11.11"
  }
 },
 "nbformat": 4,
 "nbformat_minor": 5
}
